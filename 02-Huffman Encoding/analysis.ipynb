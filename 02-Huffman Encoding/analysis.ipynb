{
 "cells": [
  {
   "cell_type": "code",
   "execution_count": 1,
   "id": "f50555db",
   "metadata": {},
   "outputs": [],
   "source": [
    "def fetch_data(path: str) -> list[int]:\n",
    "    \"\"\"Read a file into bits\"\"\"\n",
    "    with open(path, \"rb\") as df:\n",
    "        lst = []\n",
    "        for c in df.read():\n",
    "            for b in f\"{c:08b}\":\n",
    "                lst.append(int(b))\n",
    "    return lst"
   ]
  },
  {
   "cell_type": "markdown",
   "id": "4186d804",
   "metadata": {},
   "source": [
    "## Redistribute the bytes in the data"
   ]
  },
  {
   "cell_type": "code",
   "execution_count": 2,
   "id": "918ee171",
   "metadata": {},
   "outputs": [],
   "source": [
    "import numpy as np\n",
    "\n",
    "def split_data(bit_data: list[int], chunk_size: int = 4) -> np.ndarray:\n",
    "    # Pad with zeroes at the end\n",
    "    padding = (-len(bit_data)) % chunk_size\n",
    "    bit_data.extend([0] * padding)\n",
    "\n",
    "    bit_chunks = np.array(bit_data).reshape((-1, chunk_size)).astype(np.int8)\n",
    "    bit_chunks = bit_chunks @ np.flip(1 << np.arange(chunk_size))\n",
    "\n",
    "    return bit_chunks"
   ]
  },
  {
   "cell_type": "markdown",
   "id": "f09596ca",
   "metadata": {},
   "source": [
    "## Plot histograms and show the difference"
   ]
  },
  {
   "cell_type": "code",
   "execution_count": 12,
   "id": "38ad8f41",
   "metadata": {},
   "outputs": [
    {
     "data": {
      "image/png": "[encoded data removed]",
      "text/plain": [
       "<Figure size 1200x400 with 2 Axes>"
      ]
     },
     "metadata": {},
     "output_type": "display_data"
    }
   ],
   "source": [
    "# Break the data set into chunks\n",
    "chunk_size = 4\n",
    "assert 0 < chunk_size <= 8\n",
    "\n",
    "bit_data = fetch_data(\"input.txt\")\n",
    "\n",
    "data_set_8 = split_data(bit_data, 8)\n",
    "data_set_n = split_data(bit_data, chunk_size)\n",
    "\n",
    "# Plot the histograms\n",
    "import matplotlib.pyplot as plt\n",
    "\n",
    "fig, (ax1, ax2) = plt.subplots(1, 2, figsize=(12, 4))\n",
    "ax1.hist(data_set_8, bins=256, density=True, color='#69b3a2')\n",
    "ax2.hist(data_set_n, bins=2 << chunk_size, density=True, color='#ddb347')\n",
    "\n",
    "fig.patch.set_facecolor('#1e1e1e')\n",
    "for ax in (ax1, ax2):\n",
    "    ax.set_facecolor('#2b2b2b')\n",
    "    ax.tick_params(colors='white')\n",
    "    ax.spines[:].set_color('white')\n",
    "    ax.title.set_color('white')\n",
    "    ax.xaxis.label.set_color('white')\n",
    "    ax.yaxis.label.set_color('white')\n",
    "plt.show()"
   ]
  }
 ],
 "metadata": {
  "kernelspec": {
   "display_name": "02-huffman-encoding",
   "language": "python",
   "name": "python3"
  },
  "language_info": {
   "codemirror_mode": {
    "name": "ipython",
    "version": 3
   },
   "file_extension": ".py",
   "mimetype": "text/x-python",
   "name": "python",
   "nbconvert_exporter": "python",
   "pygments_lexer": "ipython3",
   "version": "3.13.7"
  }
 },
 "nbformat": 4,
 "nbformat_minor": 5
}
